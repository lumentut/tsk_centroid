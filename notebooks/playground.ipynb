{
 "cells": [
  {
   "cell_type": "code",
   "execution_count": 2,
   "id": "03f0be7e",
   "metadata": {},
   "outputs": [],
   "source": [
    "from notebook_resolver import *\n",
    "import inspect\n",
    "from src.fis.fuzzy_logic.mfs.type_2.t2_gaussian_mf import T2GaussianMFBuilder\n",
    "\n",
    "t2_gaussian_mf_defaults = inspect.signature(T2GaussianMFBuilder.__init__).parameters\n",
    "min_std_ratio = t2_gaussian_mf_defaults[\"min_std_ratio\"]\n",
    "uncertainty_factor = t2_gaussian_mf_defaults[\"uncertainty_factor\"]"
   ]
  },
  {
   "cell_type": "code",
   "execution_count": 4,
   "id": "8ec59b28",
   "metadata": {},
   "outputs": [
    {
     "data": {
      "text/plain": [
       "0.01"
      ]
     },
     "execution_count": 4,
     "metadata": {},
     "output_type": "execute_result"
    }
   ],
   "source": [
    "min_std_ratio.default"
   ]
  }
 ],
 "metadata": {
  "kernelspec": {
   "display_name": "venv",
   "language": "python",
   "name": "python3"
  },
  "language_info": {
   "codemirror_mode": {
    "name": "ipython",
    "version": 3
   },
   "file_extension": ".py",
   "mimetype": "text/x-python",
   "name": "python",
   "nbconvert_exporter": "python",
   "pygments_lexer": "ipython3",
   "version": "3.10.16"
  }
 },
 "nbformat": 4,
 "nbformat_minor": 5
}
