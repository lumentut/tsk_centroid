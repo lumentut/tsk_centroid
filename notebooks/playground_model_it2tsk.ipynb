{
 "cells": [
  {
   "cell_type": "markdown",
   "id": "9ee1ac16",
   "metadata": {},
   "source": [
    "### IT2Tsk Gaussian"
   ]
  },
  {
   "cell_type": "code",
   "execution_count": 6,
   "id": "23be2be5",
   "metadata": {},
   "outputs": [],
   "source": [
    "\n",
    "from notebook_resolver import *\n",
    "from src.utils.pandas_extension import *\n",
    "from src.dataset import Dataset, WorkSheet\n",
    "\n",
    "dataset_path = \"data/e-nose_dataset_12_beef_cuts.xlsx\"\n",
    "worksheet = WorkSheet.DS12.value\n",
    "\n",
    "dataset = Dataset(\n",
    "\tpath=dataset_path, sheet_name=worksheet,\n",
    ")\n",
    "\n",
    "train_df = dataset.train_df\n",
    "test_df = dataset.validate_df"
   ]
  },
  {
   "cell_type": "code",
   "execution_count": 7,
   "id": "7b5026c5",
   "metadata": {},
   "outputs": [
    {
     "name": "stdout",
     "output_type": "stream",
     "text": [
      "R2 Score on Test Data: 0.9812443708655182\n"
     ]
    }
   ],
   "source": [
    "from sklearn.metrics import r2_score\n",
    "from src.pipeline import Pipeline\n",
    "from src.pipelines.transformers import FeatureScaler\n",
    "from src.pipelines.predictors import IT2TskPredictor\n",
    "from src.fis.fuzzy_logic.mfs import MFType2\n",
    "from src.clusters import ClusteringMethod\n",
    "from src.fis.fuzzy_logic.consequents import LinearModel\n",
    "from src.utils.hyperparameter import get_tuned_params\n",
    "\n",
    "target_column = 'TVC'\n",
    "# tuned_params = get_tuned_params()[worksheet]\n",
    "tuned_params = {\n",
    "\t\"batch_size\": 256,\n",
    "\t\"tol\": 0.001,\n",
    "\t\"max_no_improvement\": 5,\n",
    "\t\"uncertainty_factor\": 0.07,\n",
    "\t\"min_std_ratio\": 0.13,\n",
    "}\n",
    "\n",
    "# IMPORTANT: Use the same random_state to ensure reproducible clustering\n",
    "RANDOM_STATE = 42\n",
    "\n",
    "pipeline = Pipeline(steps=[\n",
    "\t('feature_scaler', FeatureScaler(decimal_places=4)),\n",
    "\t('predictor', IT2TskPredictor(target=target_column))\n",
    "])\n",
    "\n",
    "pipeline.fit(\n",
    "    train_df, # pipeline fit only for training dataframe\n",
    "    predictor__clustering_method=ClusteringMethod.MBKMEANS,\n",
    "\tpredictor__mfs__cluster__batch_size=tuned_params.get(\"batch_size\"),\n",
    "\tpredictor__mfs__cluster__tol=tuned_params.get(\"tol\"),\n",
    "\tpredictor__mfs__cluster__max_no_improvement=tuned_params.get(\n",
    "\t\t\"max_no_improvement\"\n",
    "\t),\n",
    "\tpredictor__rules__cluster__batch_size=tuned_params.get(\"batch_size\"),\n",
    "\tpredictor__rules__cluster__tol=tuned_params.get(\"tol\"),\n",
    "\tpredictor__rules__cluster__max_no_improvement=tuned_params.get(\n",
    "\t\t\"max_no_improvement\"\n",
    "\t),\n",
    "\tpredictor__mf_type=MFType2.GAUSSIAN,\n",
    "\tpredictor__linear_model=LinearModel.LSE,\n",
    "\tpredictor__mf__builder__uncertainty_factor=tuned_params.get(\n",
    "\t\t\"uncertainty_factor\"\n",
    "\t),\n",
    "\tpredictor__mf__builder__min_std_ratio=tuned_params.get(\n",
    "\t\t\"min_std_ratio\"\n",
    "\t),\t\n",
    ")\n",
    "\n",
    "transformed_test_df = pipeline.transform(test_df)\n",
    "X_test_df = transformed_test_df.drop(columns=[target_column])\n",
    "\n",
    "y_test_ = transformed_test_df[target_column].values\n",
    "y_pred_ = pipeline.predict(X_test_df)\n",
    "\n",
    "r2 = r2_score(y_test_, y_pred_)\n",
    "print(f\"R2 Score on Test Data: {r2}\")"
   ]
  }
 ],
 "metadata": {
  "kernelspec": {
   "display_name": "venv",
   "language": "python",
   "name": "python3"
  },
  "language_info": {
   "codemirror_mode": {
    "name": "ipython",
    "version": 3
   },
   "file_extension": ".py",
   "mimetype": "text/x-python",
   "name": "python",
   "nbconvert_exporter": "python",
   "pygments_lexer": "ipython3",
   "version": "3.10.16"
  }
 },
 "nbformat": 4,
 "nbformat_minor": 5
}
